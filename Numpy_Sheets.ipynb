{
  "nbformat": 4,
  "nbformat_minor": 0,
  "metadata": {
    "colab": {
      "provenance": [],
      "authorship_tag": "ABX9TyORQi2EoyaV6XLPQL7bwxMG",
      "include_colab_link": true
    },
    "kernelspec": {
      "name": "python3",
      "display_name": "Python 3"
    },
    "language_info": {
      "name": "python"
    }
  },
  "cells": [
    {
      "cell_type": "markdown",
      "metadata": {
        "id": "view-in-github",
        "colab_type": "text"
      },
      "source": [
        "<a href=\"https://colab.research.google.com/github/Uttam1618/mygoldenpie/blob/main/Numpy_Sheets.ipynb\" target=\"_parent\"><img src=\"https://colab.research.google.com/assets/colab-badge.svg\" alt=\"Open In Colab\"/></a>"
      ]
    },
    {
      "cell_type": "code",
      "source": [
        "# To import the numpy library\n",
        "import numpy as np\n"
      ],
      "metadata": {
        "id": "_uUbAoGqVPmN"
      },
      "execution_count": 29,
      "outputs": []
    },
    {
      "cell_type": "code",
      "source": [
        "# To create one dimensional Array\n",
        "\n",
        "# To create array from a list\n",
        "li = [1,2,3,5]\n",
        "print(np.array(li))\n",
        "\n",
        "# From tuple\n",
        "tup = (3, 5, 6, 7, 8)\n",
        "print(np.array(tup))\n",
        "\n",
        "# Using fromiter() to create an array\n",
        "'''(👉 It builds a NumPy array directly from an iterable without making an intermediate list.)'''\n",
        "\n",
        "iterable = (a for a in range(8))\n",
        "print(np.fromiter(iterable, float))\n",
        "\n",
        "iterable = (x**2 for x in range(10))\n",
        "result = np.fromiter(iterable, dtype=int)\n",
        "print(result)\n",
        "\n",
        "gen = (x for x in range(100))\n",
        "arr = np.fromiter(gen, dtype=int, count=5)\n",
        "print(arr)"
      ],
      "metadata": {
        "collapsed": true,
        "id": "Vkk5ZIHr7Wda"
      },
      "execution_count": null,
      "outputs": []
    },
    {
      "cell_type": "code",
      "source": [
        "# Creating multi dimensional array\n",
        "#(They are stored in a tabular form that is in the form of rows and columns)\n",
        "\n",
        "# From list\n",
        "list_1= [1, 2, 4, 5]\n",
        "list_2= [3, 5, 6, 8]\n",
        "list_3= [55, 65, 66, 35]\n",
        "print(np.array([list_1, list_2, list_3]))\n",
        "\n",
        "# Using numpy.empty()\n",
        "print(np.empty([4,3], dtype=int))"
      ],
      "metadata": {
        "colab": {
          "base_uri": "https://localhost:8080/"
        },
        "id": "R6xJrBtO7umD",
        "outputId": "bb7a6930-de1c-45da-8879-95fdd5178dc5"
      },
      "execution_count": 31,
      "outputs": [
        {
          "output_type": "stream",
          "name": "stdout",
          "text": [
            "[[ 1  2  4  5]\n",
            " [ 3  5  6  8]\n",
            " [55 65 66 35]]\n",
            "[[ 1  2  4]\n",
            " [ 5  3  5]\n",
            " [ 6  8 55]\n",
            " [65 66 35]]\n"
          ]
        }
      ]
    },
    {
      "cell_type": "code",
      "source": [
        "# INITIAL PLACEHOLDERS\n",
        "\n",
        "# For 1D numpy array\n",
        "# To create numpy array using np.arange()\n",
        "print(np.arange(1,10))\n",
        "\n",
        "# using np.linspace()\n",
        "(It is used to create an array of evenly spaced numbers over a specified interval.)\n",
        "\n",
        "arr = np.linspace(0, 10, 5) # by default endpoint will be included which is 10\n",
        "print(arr)\n",
        "\n",
        "print(np.linspace(0, 10, 5, endpoint=False) # doesnot include 10\n",
        "\n",
        "print(np.linspace(0,10)) # the default number of values is 50\n",
        "\n",
        "# Using np.zeros()\n",
        "(creates an array filled entirely with zeros)\n",
        "\n",
        "print(np.zeros(shape, dtype, order) # order is memory layout C or F, looks same but memory layout is different\n",
        "\n",
        "print(np.zeros(5, dtype= int)\n",
        "\n",
        "# using np.ones()\n",
        "(creates new array filled entirely with one)\n",
        "\n",
        "np.ones(shape, dtype, order)\n",
        "print(np.ones(5))\n",
        "print(np.ones(5, dtypes=int))\n",
        "print(np.ones(5, dtype=int, order='C'))\n",
        "\n",
        "#using np.random.rand()\n",
        "(generates an array of random numbers drawn from a uniform distribution over the interval [0,1] means every number is between 0(inclusive) and 1(exclusive), and each has equal chance of appearing.)\n",
        "\n",
        "print(np.random.rand()) # if no argument given, then output will be a single random number\n",
        "\n",
        "print(np.random.rand(5)) # 1D array\n",
        "\n",
        "print(np.random.rand(2,3)) # 2D array, 2 rows and 3 columns\n",
        "\n",
        "# Using np.random.randint()\n",
        "(generates random integer from specified range)\n",
        "\n",
        "print(np.random.randint(low, high=none, size=none, dtype=int))\n",
        "print(np.random.randint(10)) # lowest integer is 10, means it gives the random integer between 0 to 9\n",
        "print(np.rando.randint(10, 50, size=10)\n",
        "print(np.random.randint(10, 50, size=(5, 6)))"
      ],
      "metadata": {
        "id": "oClCPh1p79rZ"
      },
      "execution_count": null,
      "outputs": []
    },
    {
      "cell_type": "code",
      "source": [
        "# for n dimensional numpy array\n",
        "# Using np.zeros()\n",
        "print(np.zeros([4,3], dtype = int))\n",
        "\n",
        "# using np.ones()\n",
        "print(np.zeros([4,3], dtype = int))\n",
        "\n",
        "# using np.full()\n",
        "np.full(shape, fill_value, dtype=None, order='C', *, like=None)\n",
        "print(np.full(5, 7))\n",
        "print(np.full([5,7], 9, dtype = int))\n",
        "\n",
        "# using np.eye()\n",
        "'''(generates indentity matrix)\n",
        "(generate rectangular version if you specify rows and column separately)'''\n",
        "\n",
        "numpy.eye(N, M=None, k=0, dtype=float, order='C')\n",
        "print(np.eye(2)) # generate 2x2 identity matrix\n",
        "print(np.eye(3,4, k=1)) # generate 3x4 matrix, diagonal shifted above\n",
        "print(np.eye(3, 4, k=-1)) # generate 3x4 matric, diagonal shifted below"
      ],
      "metadata": {
        "id": "Ko1zLKTF8eN9"
      },
      "execution_count": null,
      "outputs": []
    },
    {
      "cell_type": "markdown",
      "source": [
        "**Inspecting Properties**\n"
      ],
      "metadata": {
        "id": "TvNZ-XV684jB"
      }
    },
    {
      "cell_type": "markdown",
      "source": [
        "For 1D numpy array"
      ],
      "metadata": {
        "id": "-ofJk3T39EQQ"
      }
    },
    {
      "cell_type": "code",
      "source": [
        "arr = np.asarray([1, 2, 3, 4])\n",
        "# check size of the array\n",
        "print(\"Size:\", arr.size)\n",
        "\n",
        "# check len of the array\n",
        "print(\"len:\", len(arr))\n",
        "\n",
        "# check shape of the array\n",
        "print(\"Shape:\", arr.shape)\n",
        "\n",
        "# check dtype of the array elements\n",
        "print(\"Datatype:\", arr.dtype)\n",
        "\n",
        "# change the dtype to 'float64'\n",
        "arr = arr.astype('float64')\n",
        "print(arr)\n",
        "print(\"Datatype:\", arr.dtype)\n",
        "\n",
        "# convert array to list\n",
        "lis = arr.tolist()\n",
        "print(\"\\nList:\", lis)\n",
        "print(type(lis))"
      ],
      "metadata": {
        "id": "wovfE58q9gLx"
      },
      "execution_count": null,
      "outputs": []
    },
    {
      "cell_type": "markdown",
      "source": [
        "For n dimensional numpy array"
      ],
      "metadata": {
        "id": "EifS-z969kXe"
      }
    },
    {
      "cell_type": "code",
      "source": [
        "# Two dimensional numpy array\n",
        "list_1 = [1, 2, 3, 4]\n",
        "list_2 = [5, 6, 7, 8]\n",
        "list_3 = [9, 10, 11, 12]\n",
        "arr = np.array([list_1, list_2, list_3])\n",
        "\n",
        "# check size of the array\n",
        "print(\"Size:\", arr.size)\n",
        "\n",
        "# check length of the array\n",
        "print(\"Length:\", len(arr))\n",
        "\n",
        "# check shape of the array\n",
        "print(\"Shape:\", arr.shape)\n",
        "\n",
        "# check dtype of the array elements\n",
        "print(\"Datatype:\", arr.dtype)\n",
        "\n",
        "# change the dtype to 'float64'\n",
        "arr = arr.astype('float64')\n",
        "print(arr)\n",
        "print(arr.dtype)\n",
        "\n",
        "# convert array to list\n",
        "lis = arr.tolist()\n",
        "print(\"\\nList:\", lis)\n",
        "print(type(lis))"
      ],
      "metadata": {
        "id": "zeXYTy0a9peX"
      },
      "execution_count": null,
      "outputs": []
    },
    {
      "cell_type": "markdown",
      "source": [
        "**Getting infromation on a numpy function**"
      ],
      "metadata": {
        "id": "1wO56q7y-EPT"
      }
    },
    {
      "cell_type": "code",
      "source": [
        "# get info about the python function\n",
        "np.info(np.eye)\n",
        "help(np.eye) # python built in function\n",
        "\n",
        "# get info about the numpy constant or class\n",
        "np.info(np.ndarray) ''' All arrays you create with functions like np.array(),\n",
        "np.zeros(), np.eye(), etc., are actually instances of numpy.ndarray.'''"
      ],
      "metadata": {
        "collapsed": true,
        "id": "n-ZFa2Xv-Mbg"
      },
      "execution_count": null,
      "outputs": []
    },
    {
      "cell_type": "markdown",
      "source": [
        "**Saving and loading files**"
      ],
      "metadata": {
        "id": "8o-0QvwA-ZqY"
      }
    },
    {
      "cell_type": "code",
      "source": [
        "# to save the file\n",
        "np.save(\"newfile', np.arrange(5))\n",
        "\n",
        "# to load the file\n",
        "print(np.load(\"newfile.npy\"))\n",
        "\n",
        "# to save the file in a text fie, use savetxt()\n",
        "x = np.arange(0,10,1)\n",
        "print(x)\n",
        "c = np.savetxt(\"newfile.txt\", x, delimiter = ', ')\n",
        "\n",
        "# to load from the text file, loadtxt()\n",
        "d = np.loadtxt(\"newfile.txt\")\n",
        "print(d)\n",
        "\n",
        "# to load CSV file in python using numpy, use genfromtxt() function,\n",
        "Data = np.genfromtxt(\"files\\myfile.csv\", delimiter=\",\")\n",
        "print(Data)"
      ],
      "metadata": {
        "id": "ZlhOKGNb-dGG"
      },
      "execution_count": null,
      "outputs": []
    },
    {
      "cell_type": "markdown",
      "source": [
        "**Sorting Array**"
      ],
      "metadata": {
        "id": "z0UOkef8-kdx"
      }
    },
    {
      "cell_type": "code",
      "source": [
        "# for one dimensional array\n",
        "random = np.array([34, 55, 98, 76, 90, 23, 66, 12, 3])\n",
        "random.sort()\n",
        "print(random)\n",
        "\n",
        "import numpy as np\n",
        "array_2d = np.array([[5, 2, 8],\n",
        "                     [1, 9, 4],\n",
        "                     [7, 3, 6]])\n",
        "\n",
        "print(\"Original array:\")\n",
        "display(array_2d)\n",
        "\n",
        "# Sort along axis=0 (columns) - sorts each column independently\n",
        "sorted_axis_0 = np.sort(array_2d, axis=0) # Using np.sort to return a new array\n",
        "print(\"\\nSorted along axis=0 (columns):\")\n",
        "display(sorted_axis_0)\n",
        "\n",
        "# Sort along axis=1 (rows) - sorts each row independently\n",
        "sorted_axis_1 = np.sort(array_2d, axis=1) # Using np.sort to return a new array\n",
        "print(\"\\nSorted along axis=1 (rows):\")\n",
        "display(sorted_axis_1)\n",
        "\n",
        "# Sort the flattened array (axis=None)\n",
        "sorted_flattened = np.sort(array_2d, axis=None) # Using np.sort to return a new array\n",
        "print(\"\\nSorted flattened array (axis=None):\")\n",
        "display(sorted_flattened)"
      ],
      "metadata": {
        "id": "_xRMc9to-mrG"
      },
      "execution_count": null,
      "outputs": []
    },
    {
      "cell_type": "markdown",
      "source": [
        "**Numpy array manipulation**"
      ],
      "metadata": {
        "id": "K_Y9FZ3P-yc3"
      }
    },
    {
      "cell_type": "code",
      "source": [
        "# for one dimensional array\n",
        "# adding the value at the end\n",
        "arr = np.array([1, 2, 3 ,4])\n",
        "arr = np.append(arr, [7])\n",
        "print(arr)\n",
        "\n",
        "# for n dimensional array\n",
        "# Adding the values at the end\n",
        "# of a numpy array\n",
        "arr = np.arange(1, 13).reshape(2, 6)\n",
        "print(\"Original Array\")\n",
        "print(arr, \"\\n\")\n",
        "\n",
        "# create another array which is\n",
        "# to be appended column-wise\n",
        "col = np.arange(5, 11).reshape(1, 6)\n",
        "arr_col = np.append(arr, col, axis=0)\n",
        "print(\"Array after appending the values column wise\")\n",
        "print(arr_col, \"\\n\")\n",
        "\n",
        "# create an array which is\n",
        "# to be appended row wise\n",
        "row = np.array([1, 2]).reshape(2, 1)\n",
        "arr_row = np.append(arr, row, axis=1)\n",
        "print(\"Array after appending the values row wise\")\n",
        "print(arr_row)"
      ],
      "metadata": {
        "id": "JQEBpXus-6ie"
      },
      "execution_count": null,
      "outputs": []
    }
  ]
}