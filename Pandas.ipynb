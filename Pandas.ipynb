{
  "nbformat": 4,
  "nbformat_minor": 0,
  "metadata": {
    "colab": {
      "provenance": [],
      "authorship_tag": "ABX9TyPaMtuDRk5v1lqrdRqEvuWw",
      "include_colab_link": true
    },
    "kernelspec": {
      "name": "python3",
      "display_name": "Python 3"
    },
    "language_info": {
      "name": "python"
    }
  },
  "cells": [
    {
      "cell_type": "markdown",
      "metadata": {
        "id": "view-in-github",
        "colab_type": "text"
      },
      "source": [
        "<a href=\"https://colab.research.google.com/github/Uttam1618/mygoldenpie/blob/main/Pandas.ipynb\" target=\"_parent\"><img src=\"https://colab.research.google.com/assets/colab-badge.svg\" alt=\"Open In Colab\"/></a>"
      ]
    },
    {
      "cell_type": "code",
      "source": [
        "import numpy as np\n"
      ],
      "metadata": {
        "id": "_uUbAoGqVPmN"
      },
      "execution_count": 1,
      "outputs": []
    },
    {
      "cell_type": "code",
      "source": [
        "print(np.full([2,3], 9, dtype=int))"
      ],
      "metadata": {
        "colab": {
          "base_uri": "https://localhost:8080/"
        },
        "id": "R7lhB4WyVcRT",
        "outputId": "26cddf66-ad66-4dca-bd15-e90c18a321bf"
      },
      "execution_count": 2,
      "outputs": [
        {
          "output_type": "stream",
          "name": "stdout",
          "text": [
            "[[9 9 9]\n",
            " [9 9 9]]\n"
          ]
        }
      ]
    },
    {
      "cell_type": "code",
      "source": [
        "print(np.eye(4, 3, k=-2))"
      ],
      "metadata": {
        "colab": {
          "base_uri": "https://localhost:8080/"
        },
        "id": "tfdsNe03Y9mo",
        "outputId": "db2a2202-2d35-48f4-acf8-5f7cc6ed2339"
      },
      "execution_count": 3,
      "outputs": [
        {
          "output_type": "stream",
          "name": "stdout",
          "text": [
            "[[0. 0. 0.]\n",
            " [0. 0. 0.]\n",
            " [1. 0. 0.]\n",
            " [0. 1. 0.]]\n"
          ]
        }
      ]
    },
    {
      "cell_type": "code",
      "source": [
        "np.info(np.eye)"
      ],
      "metadata": {
        "colab": {
          "base_uri": "https://localhost:8080/"
        },
        "id": "7Bh_SI8LdFaC",
        "outputId": "6456c3b8-9df3-494c-cbef-1c012cf667f3"
      },
      "execution_count": 4,
      "outputs": [
        {
          "output_type": "stream",
          "name": "stdout",
          "text": [
            " eye(N, M=None, k=0, dtype=<class 'float'>, order='C', *, device=None,\n",
            "     like=None)\n",
            "\n",
            "Return a 2-D array with ones on the diagonal and zeros elsewhere.\n",
            "\n",
            "Parameters\n",
            "----------\n",
            "N : int\n",
            "  Number of rows in the output.\n",
            "M : int, optional\n",
            "  Number of columns in the output. If None, defaults to `N`.\n",
            "k : int, optional\n",
            "  Index of the diagonal: 0 (the default) refers to the main diagonal,\n",
            "  a positive value refers to an upper diagonal, and a negative value\n",
            "  to a lower diagonal.\n",
            "dtype : data-type, optional\n",
            "  Data-type of the returned array.\n",
            "order : {'C', 'F'}, optional\n",
            "    Whether the output should be stored in row-major (C-style) or\n",
            "    column-major (Fortran-style) order in memory.\n",
            "\n",
            "    .. versionadded:: 1.14.0\n",
            "device : str, optional\n",
            "    The device on which to place the created array. Default: None.\n",
            "    For Array-API interoperability only, so must be ``\"cpu\"`` if passed.\n",
            "\n",
            "    .. versionadded:: 2.0.0\n",
            "like : array_like, optional\n",
            "    Reference object to allow the creation of arrays which are not\n",
            "    NumPy arrays. If an array-like passed in as ``like`` supports\n",
            "    the ``__array_function__`` protocol, the result will be defined\n",
            "    by it. In this case, it ensures the creation of an array object\n",
            "    compatible with that passed in via this argument.\n",
            "\n",
            "    .. versionadded:: 1.20.0\n",
            "\n",
            "Returns\n",
            "-------\n",
            "I : ndarray of shape (N,M)\n",
            "  An array where all elements are equal to zero, except for the `k`-th\n",
            "  diagonal, whose values are equal to one.\n",
            "\n",
            "See Also\n",
            "--------\n",
            "identity : (almost) equivalent function\n",
            "diag : diagonal 2-D array from a 1-D array specified by the user.\n",
            "\n",
            "Examples\n",
            "--------\n",
            ">>> np.eye(2, dtype=int)\n",
            "array([[1, 0],\n",
            "       [0, 1]])\n",
            ">>> np.eye(3, k=1)\n",
            "array([[0.,  1.,  0.],\n",
            "       [0.,  0.,  1.],\n",
            "       [0.,  0.,  0.]])\n"
          ]
        }
      ]
    },
    {
      "cell_type": "code",
      "source": [
        "np.info(np.full)"
      ],
      "metadata": {
        "colab": {
          "base_uri": "https://localhost:8080/"
        },
        "id": "p_4XANRQdIJC",
        "outputId": "3888df61-c160-4ea2-d9c4-640eee2b9748"
      },
      "execution_count": 5,
      "outputs": [
        {
          "output_type": "stream",
          "name": "stdout",
          "text": [
            " full(shape, fill_value, dtype=None, order='C', *, device=None, like=None)\n",
            "\n",
            "Return a new array of given shape and type, filled with `fill_value`.\n",
            "\n",
            "Parameters\n",
            "----------\n",
            "shape : int or sequence of ints\n",
            "    Shape of the new array, e.g., ``(2, 3)`` or ``2``.\n",
            "fill_value : scalar or array_like\n",
            "    Fill value.\n",
            "dtype : data-type, optional\n",
            "    The desired data-type for the array  The default, None, means\n",
            "     ``np.array(fill_value).dtype``.\n",
            "order : {'C', 'F'}, optional\n",
            "    Whether to store multidimensional data in C- or Fortran-contiguous\n",
            "    (row- or column-wise) order in memory.\n",
            "device : str, optional\n",
            "    The device on which to place the created array. Default: None.\n",
            "    For Array-API interoperability only, so must be ``\"cpu\"`` if passed.\n",
            "\n",
            "    .. versionadded:: 2.0.0\n",
            "like : array_like, optional\n",
            "    Reference object to allow the creation of arrays which are not\n",
            "    NumPy arrays. If an array-like passed in as ``like`` supports\n",
            "    the ``__array_function__`` protocol, the result will be defined\n",
            "    by it. In this case, it ensures the creation of an array object\n",
            "    compatible with that passed in via this argument.\n",
            "\n",
            "    .. versionadded:: 1.20.0\n",
            "\n",
            "Returns\n",
            "-------\n",
            "out : ndarray\n",
            "    Array of `fill_value` with the given shape, dtype, and order.\n",
            "\n",
            "See Also\n",
            "--------\n",
            "full_like : Return a new array with shape of input filled with value.\n",
            "empty : Return a new uninitialized array.\n",
            "ones : Return a new array setting values to one.\n",
            "zeros : Return a new array setting values to zero.\n",
            "\n",
            "Examples\n",
            "--------\n",
            ">>> np.full((2, 2), np.inf)\n",
            "array([[inf, inf],\n",
            "       [inf, inf]])\n",
            ">>> np.full((2, 2), 10)\n",
            "array([[10, 10],\n",
            "       [10, 10]])\n",
            "\n",
            ">>> np.full((2, 2), [1, 2])\n",
            "array([[1, 2],\n",
            "       [1, 2]])\n"
          ]
        }
      ]
    },
    {
      "cell_type": "code",
      "source": [
        "np.info(np.linspace)"
      ],
      "metadata": {
        "colab": {
          "base_uri": "https://localhost:8080/"
        },
        "id": "GstrBj3_dWPz",
        "outputId": "711a14b8-2314-45a0-f268-aed7293bbe5f"
      },
      "execution_count": 6,
      "outputs": [
        {
          "output_type": "stream",
          "name": "stdout",
          "text": [
            "Return evenly spaced numbers over a specified interval.\n",
            "\n",
            "Returns `num` evenly spaced samples, calculated over the\n",
            "interval [`start`, `stop`].\n",
            "\n",
            "The endpoint of the interval can optionally be excluded.\n",
            "\n",
            ".. versionchanged:: 1.16.0\n",
            "    Non-scalar `start` and `stop` are now supported.\n",
            "\n",
            ".. versionchanged:: 1.20.0\n",
            "    Values are rounded towards ``-inf`` instead of ``0`` when an\n",
            "    integer ``dtype`` is specified. The old behavior can\n",
            "    still be obtained with ``np.linspace(start, stop, num).astype(int)``\n",
            "\n",
            "Parameters\n",
            "----------\n",
            "start : array_like\n",
            "    The starting value of the sequence.\n",
            "stop : array_like\n",
            "    The end value of the sequence, unless `endpoint` is set to False.\n",
            "    In that case, the sequence consists of all but the last of ``num + 1``\n",
            "    evenly spaced samples, so that `stop` is excluded.  Note that the step\n",
            "    size changes when `endpoint` is False.\n",
            "num : int, optional\n",
            "    Number of samples to generate. Default is 50. Must be non-negative.\n",
            "endpoint : bool, optional\n",
            "    If True, `stop` is the last sample. Otherwise, it is not included.\n",
            "    Default is True.\n",
            "retstep : bool, optional\n",
            "    If True, return (`samples`, `step`), where `step` is the spacing\n",
            "    between samples.\n",
            "dtype : dtype, optional\n",
            "    The type of the output array.  If `dtype` is not given, the data type\n",
            "    is inferred from `start` and `stop`. The inferred dtype will never be\n",
            "    an integer; `float` is chosen even if the arguments would produce an\n",
            "    array of integers.\n",
            "\n",
            "    .. versionadded:: 1.9.0\n",
            "axis : int, optional\n",
            "    The axis in the result to store the samples.  Relevant only if start\n",
            "    or stop are array-like.  By default (0), the samples will be along a\n",
            "    new axis inserted at the beginning. Use -1 to get an axis at the end.\n",
            "\n",
            "    .. versionadded:: 1.16.0\n",
            "device : str, optional\n",
            "    The device on which to place the created array. Default: None.\n",
            "    For Array-API interoperability only, so must be ``\"cpu\"`` if passed.\n",
            "\n",
            "    .. versionadded:: 2.0.0\n",
            "\n",
            "Returns\n",
            "-------\n",
            "samples : ndarray\n",
            "    There are `num` equally spaced samples in the closed interval\n",
            "    ``[start, stop]`` or the half-open interval ``[start, stop)``\n",
            "    (depending on whether `endpoint` is True or False).\n",
            "step : float, optional\n",
            "    Only returned if `retstep` is True\n",
            "\n",
            "    Size of spacing between samples.\n",
            "\n",
            "\n",
            "See Also\n",
            "--------\n",
            "arange : Similar to `linspace`, but uses a step size (instead of the\n",
            "         number of samples).\n",
            "geomspace : Similar to `linspace`, but with numbers spaced evenly on a log\n",
            "            scale (a geometric progression).\n",
            "logspace : Similar to `geomspace`, but with the end points specified as\n",
            "           logarithms.\n",
            ":ref:`how-to-partition`\n",
            "\n",
            "Examples\n",
            "--------\n",
            ">>> np.linspace(2.0, 3.0, num=5)\n",
            "array([2.  , 2.25, 2.5 , 2.75, 3.  ])\n",
            ">>> np.linspace(2.0, 3.0, num=5, endpoint=False)\n",
            "array([2. ,  2.2,  2.4,  2.6,  2.8])\n",
            ">>> np.linspace(2.0, 3.0, num=5, retstep=True)\n",
            "(array([2.  ,  2.25,  2.5 ,  2.75,  3.  ]), 0.25)\n",
            "\n",
            "Graphical illustration:\n",
            "\n",
            ">>> import matplotlib.pyplot as plt\n",
            ">>> N = 8\n",
            ">>> y = np.zeros(N)\n",
            ">>> x1 = np.linspace(0, 10, N, endpoint=True)\n",
            ">>> x2 = np.linspace(0, 10, N, endpoint=False)\n",
            ">>> plt.plot(x1, y, 'o')\n",
            "[<matplotlib.lines.Line2D object at 0x...>]\n",
            ">>> plt.plot(x2, y + 0.5, 'o')\n",
            "[<matplotlib.lines.Line2D object at 0x...>]\n",
            ">>> plt.ylim([-0.5, 1])\n",
            "(-0.5, 1)\n",
            ">>> plt.show()\n"
          ]
        }
      ]
    },
    {
      "cell_type": "code",
      "source": [
        "np.info(max)"
      ],
      "metadata": {
        "colab": {
          "base_uri": "https://localhost:8080/"
        },
        "id": "Ap_Xeb4ydzrX",
        "outputId": "ef30274d-b5d4-4234-84f8-dc50848f8d9b"
      },
      "execution_count": 7,
      "outputs": [
        {
          "output_type": "stream",
          "name": "stdout",
          "text": [
            "max(iterable, *[, default=obj, key=func]) -> value\n",
            "max(arg1, arg2, *args, *[, key=func]) -> value\n",
            "\n",
            "With a single iterable argument, return its biggest item. The\n",
            "default keyword-only argument specifies an object to return if\n",
            "the provided iterable is empty.\n",
            "With two or more arguments, return the largest argument.\n"
          ]
        }
      ]
    },
    {
      "cell_type": "code",
      "source": [
        "np.info(np.ndarray)\n",
        "\n"
      ],
      "metadata": {
        "colab": {
          "base_uri": "https://localhost:8080/"
        },
        "id": "B_2VXifLeMaC",
        "outputId": "0319b56e-7fce-4836-ecbc-0c99f5cfed51"
      },
      "execution_count": 8,
      "outputs": [
        {
          "output_type": "stream",
          "name": "stdout",
          "text": [
            " ndarray()\n",
            "\n",
            "ndarray(shape, dtype=float, buffer=None, offset=0,\n",
            "        strides=None, order=None)\n",
            "\n",
            "An array object represents a multidimensional, homogeneous array\n",
            "of fixed-size items.  An associated data-type object describes the\n",
            "format of each element in the array (its byte-order, how many bytes it\n",
            "occupies in memory, whether it is an integer, a floating point number,\n",
            "or something else, etc.)\n",
            "\n",
            "Arrays should be constructed using `array`, `zeros` or `empty` (refer\n",
            "to the See Also section below).  The parameters given here refer to\n",
            "a low-level method (`ndarray(...)`) for instantiating an array.\n",
            "\n",
            "For more information, refer to the `numpy` module and examine the\n",
            "methods and attributes of an array.\n",
            "\n",
            "Parameters\n",
            "----------\n",
            "(for the __new__ method; see Notes below)\n",
            "\n",
            "shape : tuple of ints\n",
            "    Shape of created array.\n",
            "dtype : data-type, optional\n",
            "    Any object that can be interpreted as a numpy data type.\n",
            "buffer : object exposing buffer interface, optional\n",
            "    Used to fill the array with data.\n",
            "offset : int, optional\n",
            "    Offset of array data in buffer.\n",
            "strides : tuple of ints, optional\n",
            "    Strides of data in memory.\n",
            "order : {'C', 'F'}, optional\n",
            "    Row-major (C-style) or column-major (Fortran-style) order.\n",
            "\n",
            "Attributes\n",
            "----------\n",
            "T : ndarray\n",
            "    Transpose of the array.\n",
            "data : buffer\n",
            "    The array's elements, in memory.\n",
            "dtype : dtype object\n",
            "    Describes the format of the elements in the array.\n",
            "flags : dict\n",
            "    Dictionary containing information related to memory use, e.g.,\n",
            "    'C_CONTIGUOUS', 'OWNDATA', 'WRITEABLE', etc.\n",
            "flat : numpy.flatiter object\n",
            "    Flattened version of the array as an iterator.  The iterator\n",
            "    allows assignments, e.g., ``x.flat = 3`` (See `ndarray.flat` for\n",
            "    assignment examples; TODO).\n",
            "imag : ndarray\n",
            "    Imaginary part of the array.\n",
            "real : ndarray\n",
            "    Real part of the array.\n",
            "size : int\n",
            "    Number of elements in the array.\n",
            "itemsize : int\n",
            "    The memory use of each array element in bytes.\n",
            "nbytes : int\n",
            "    The total number of bytes required to store the array data,\n",
            "    i.e., ``itemsize * size``.\n",
            "ndim : int\n",
            "    The array's number of dimensions.\n",
            "shape : tuple of ints\n",
            "    Shape of the array.\n",
            "strides : tuple of ints\n",
            "    The step-size required to move from one element to the next in\n",
            "    memory. For example, a contiguous ``(3, 4)`` array of type\n",
            "    ``int16`` in C-order has strides ``(8, 2)``.  This implies that\n",
            "    to move from element to element in memory requires jumps of 2 bytes.\n",
            "    To move from row-to-row, one needs to jump 8 bytes at a time\n",
            "    (``2 * 4``).\n",
            "ctypes : ctypes object\n",
            "    Class containing properties of the array needed for interaction\n",
            "    with ctypes.\n",
            "base : ndarray\n",
            "    If the array is a view into another array, that array is its `base`\n",
            "    (unless that array is also a view).  The `base` array is where the\n",
            "    array data is actually stored.\n",
            "\n",
            "See Also\n",
            "--------\n",
            "array : Construct an array.\n",
            "zeros : Create an array, each element of which is zero.\n",
            "empty : Create an array, but leave its allocated memory unchanged (i.e.,\n",
            "        it contains \"garbage\").\n",
            "dtype : Create a data-type.\n",
            "numpy.typing.NDArray : An ndarray alias :term:`generic <generic type>`\n",
            "                       w.r.t. its `dtype.type <numpy.dtype.type>`.\n",
            "\n",
            "Notes\n",
            "-----\n",
            "There are two modes of creating an array using ``__new__``:\n",
            "\n",
            "1. If `buffer` is None, then only `shape`, `dtype`, and `order`\n",
            "   are used.\n",
            "2. If `buffer` is an object exposing the buffer interface, then\n",
            "   all keywords are interpreted.\n",
            "\n",
            "No ``__init__`` method is needed because the array is fully initialized\n",
            "after the ``__new__`` method.\n",
            "\n",
            "Examples\n",
            "--------\n",
            "These examples illustrate the low-level `ndarray` constructor.  Refer\n",
            "to the `See Also` section above for easier ways of constructing an\n",
            "ndarray.\n",
            "\n",
            "First mode, `buffer` is None:\n",
            "\n",
            ">>> np.ndarray(shape=(2,2), dtype=float, order='F')\n",
            "array([[0.0e+000, 0.0e+000], # random\n",
            "       [     nan, 2.5e-323]])\n",
            "\n",
            "Second mode:\n",
            "\n",
            ">>> np.ndarray((2,), buffer=np.array([1,2,3]),\n",
            "...            offset=np.int_().itemsize,\n",
            "...            dtype=int) # offset = 1*itemsize, i.e. skip first element\n",
            "array([2, 3])\n",
            "\n",
            "\n",
            "Methods:\n",
            "\n",
            "  all  --  a.all(axis=None, out=None, keepdims=False, *, where=True)\n",
            "  any  --  a.any(axis=None, out=None, keepdims=False, *, where=True)\n",
            "  argmax  --  a.argmax(axis=None, out=None, *, keepdims=False)\n",
            "  argmin  --  a.argmin(axis=None, out=None, *, keepdims=False)\n",
            "  argpartition  --  a.argpartition(kth, axis=-1, kind='introselect', order=None)\n",
            "  argsort  --  a.argsort(axis=-1, kind=None, order=None)\n",
            "  astype  --  a.astype(dtype, order='K', casting='unsafe', subok=True, copy=True)\n",
            "  byteswap  --  a.byteswap(inplace=False)\n",
            "  choose  --  a.choose(choices, out=None, mode='raise')\n",
            "  clip  --  a.clip(min=None, max=None, out=None, **kwargs)\n",
            "  compress  --  a.compress(condition, axis=None, out=None)\n",
            "  conj  --  a.conj()\n",
            "  conjugate  --  a.conjugate()\n",
            "  copy  --  a.copy(order='C')\n",
            "  cumprod  --  a.cumprod(axis=None, dtype=None, out=None)\n",
            "  cumsum  --  a.cumsum(axis=None, dtype=None, out=None)\n",
            "  diagonal  --  a.diagonal(offset=0, axis1=0, axis2=1)\n",
            "  dot  --  None\n",
            "  dump  --  a.dump(file)\n",
            "  dumps  --  a.dumps()\n",
            "  fill  --  a.fill(value)\n",
            "  flatten  --  a.flatten(order='C')\n",
            "  getfield  --  a.getfield(dtype, offset=0)\n",
            "  item  --  a.item(*args)\n",
            "  max  --  a.max(axis=None, out=None, keepdims=False, initial=<no value>, where=True)\n",
            "  mean  --  a.mean(axis=None, dtype=None, out=None, keepdims=False, *, where=True)\n",
            "  min  --  a.min(axis=None, out=None, keepdims=False, initial=<no value>, where=True)\n",
            "  nonzero  --  a.nonzero()\n",
            "  partition  --  a.partition(kth, axis=-1, kind='introselect', order=None)\n",
            "  prod  --  \n",
            "  put  --  a.put(indices, values, mode='raise')\n",
            "  ravel  --  a.ravel([order])\n",
            "  repeat  --  a.repeat(repeats, axis=None)\n",
            "  reshape  --  a.reshape(shape, /, *, order='C')\n",
            "  resize  --  a.resize(new_shape, refcheck=True)\n",
            "  round  --  a.round(decimals=0, out=None)\n",
            "  searchsorted  --  a.searchsorted(v, side='left', sorter=None)\n",
            "  setfield  --  a.setfield(val, dtype, offset=0)\n",
            "  setflags  --  a.setflags(write=None, align=None, uic=None)\n",
            "  sort  --  a.sort(axis=-1, kind=None, order=None)\n",
            "  squeeze  --  a.squeeze(axis=None)\n",
            "  std  --  a.std(axis=None, dtype=None, out=None, ddof=0, keepdims=False, *, where=True)\n",
            "  sum  --  a.sum(axis=None, dtype=None, out=None, keepdims=False, initial=0, where=True)\n",
            "  swapaxes  --  a.swapaxes(axis1, axis2)\n",
            "  take  --  a.take(indices, axis=None, out=None, mode='raise')\n",
            "  to_device  --  None\n",
            "  tobytes  --  a.tobytes(order='C')\n",
            "  tofile  --  a.tofile(fid, sep=\"\", format=\"%s\")\n",
            "  tolist  --  a.tolist()\n",
            "  tostring  --  a.tostring(order='C')\n",
            "  trace  --  a.trace(offset=0, axis1=0, axis2=1, dtype=None, out=None)\n",
            "  transpose  --  a.transpose(*axes)\n",
            "  var  --  a.var(axis=None, dtype=None, out=None, ddof=0, keepdims=False, *, where=True)\n",
            "  view  --  a.view([dtype][, type])\n"
          ]
        }
      ]
    },
    {
      "cell_type": "code",
      "source": [
        "help(np.eye)"
      ],
      "metadata": {
        "colab": {
          "base_uri": "https://localhost:8080/"
        },
        "id": "hyMI--EJegQI",
        "outputId": "4361e004-7e64-4abe-d29a-9ca9a07bb7e3"
      },
      "execution_count": 9,
      "outputs": [
        {
          "output_type": "stream",
          "name": "stdout",
          "text": [
            "Help on function eye in module numpy:\n",
            "\n",
            "eye(N, M=None, k=0, dtype=<class 'float'>, order='C', *, device=None, like=None)\n",
            "    Return a 2-D array with ones on the diagonal and zeros elsewhere.\n",
            "\n",
            "    Parameters\n",
            "    ----------\n",
            "    N : int\n",
            "      Number of rows in the output.\n",
            "    M : int, optional\n",
            "      Number of columns in the output. If None, defaults to `N`.\n",
            "    k : int, optional\n",
            "      Index of the diagonal: 0 (the default) refers to the main diagonal,\n",
            "      a positive value refers to an upper diagonal, and a negative value\n",
            "      to a lower diagonal.\n",
            "    dtype : data-type, optional\n",
            "      Data-type of the returned array.\n",
            "    order : {'C', 'F'}, optional\n",
            "        Whether the output should be stored in row-major (C-style) or\n",
            "        column-major (Fortran-style) order in memory.\n",
            "\n",
            "        .. versionadded:: 1.14.0\n",
            "    device : str, optional\n",
            "        The device on which to place the created array. Default: None.\n",
            "        For Array-API interoperability only, so must be ``\"cpu\"`` if passed.\n",
            "\n",
            "        .. versionadded:: 2.0.0\n",
            "    like : array_like, optional\n",
            "        Reference object to allow the creation of arrays which are not\n",
            "        NumPy arrays. If an array-like passed in as ``like`` supports\n",
            "        the ``__array_function__`` protocol, the result will be defined\n",
            "        by it. In this case, it ensures the creation of an array object\n",
            "        compatible with that passed in via this argument.\n",
            "\n",
            "        .. versionadded:: 1.20.0\n",
            "\n",
            "    Returns\n",
            "    -------\n",
            "    I : ndarray of shape (N,M)\n",
            "      An array where all elements are equal to zero, except for the `k`-th\n",
            "      diagonal, whose values are equal to one.\n",
            "\n",
            "    See Also\n",
            "    --------\n",
            "    identity : (almost) equivalent function\n",
            "    diag : diagonal 2-D array from a 1-D array specified by the user.\n",
            "\n",
            "    Examples\n",
            "    --------\n",
            "    >>> np.eye(2, dtype=int)\n",
            "    array([[1, 0],\n",
            "           [0, 1]])\n",
            "    >>> np.eye(3, k=1)\n",
            "    array([[0.,  1.,  0.],\n",
            "           [0.,  0.,  1.],\n",
            "           [0.,  0.,  0.]])\n",
            "\n"
          ]
        }
      ]
    },
    {
      "cell_type": "code",
      "source": [
        "# the array is saved in the file geekfile.npy\n",
        "np.save(\"geekfile\", np.arange(5))\n",
        "\n",
        "# the array is loaded into b\n",
        "print(np.load(\"geekfile.npy\"))"
      ],
      "metadata": {
        "colab": {
          "base_uri": "https://localhost:8080/"
        },
        "id": "pz_QWalNfXZD",
        "outputId": "a4f2f22d-2217-41f4-f81a-83b61db75601"
      },
      "execution_count": 10,
      "outputs": [
        {
          "output_type": "stream",
          "name": "stdout",
          "text": [
            "[0 1 2 3 4]\n"
          ]
        }
      ]
    },
    {
      "cell_type": "code",
      "source": [
        "random = np.array([34, 55, 98, 76, 90, 23, 66, 12, 3])\n",
        "random.sort()\n",
        "print(random)\n"
      ],
      "metadata": {
        "colab": {
          "base_uri": "https://localhost:8080/"
        },
        "id": "0xA0ErlAsClh",
        "outputId": "3787d2b8-80f0-464b-9810-eb23ada43053"
      },
      "execution_count": 18,
      "outputs": [
        {
          "output_type": "stream",
          "name": "stdout",
          "text": [
            "[ 3 12 23 34 55 66 76 90 98]\n"
          ]
        }
      ]
    },
    {
      "cell_type": "code",
      "source": [
        "help(np.sort)"
      ],
      "metadata": {
        "colab": {
          "base_uri": "https://localhost:8080/"
        },
        "id": "IGA46vkDsVDv",
        "outputId": "c9c728e8-5e56-4675-b926-189544a7ec2c"
      },
      "execution_count": 21,
      "outputs": [
        {
          "output_type": "stream",
          "name": "stdout",
          "text": [
            "Help on _ArrayFunctionDispatcher in module numpy:\n",
            "\n",
            "sort(a, axis=-1, kind=None, order=None, *, stable=None)\n",
            "    Return a sorted copy of an array.\n",
            "\n",
            "    Parameters\n",
            "    ----------\n",
            "    a : array_like\n",
            "        Array to be sorted.\n",
            "    axis : int or None, optional\n",
            "        Axis along which to sort. If None, the array is flattened before\n",
            "        sorting. The default is -1, which sorts along the last axis.\n",
            "    kind : {'quicksort', 'mergesort', 'heapsort', 'stable'}, optional\n",
            "        Sorting algorithm. The default is 'quicksort'. Note that both 'stable'\n",
            "        and 'mergesort' use timsort or radix sort under the covers and,\n",
            "        in general, the actual implementation will vary with data type.\n",
            "        The 'mergesort' option is retained for backwards compatibility.\n",
            "\n",
            "        .. versionchanged:: 1.15.0.\n",
            "           The 'stable' option was added.\n",
            "\n",
            "    order : str or list of str, optional\n",
            "        When `a` is an array with fields defined, this argument specifies\n",
            "        which fields to compare first, second, etc.  A single field can\n",
            "        be specified as a string, and not all fields need be specified,\n",
            "        but unspecified fields will still be used, in the order in which\n",
            "        they come up in the dtype, to break ties.\n",
            "    stable : bool, optional\n",
            "        Sort stability. If ``True``, the returned array will maintain\n",
            "        the relative order of ``a`` values which compare as equal.\n",
            "        If ``False`` or ``None``, this is not guaranteed. Internally,\n",
            "        this option selects ``kind='stable'``. Default: ``None``.\n",
            "\n",
            "        .. versionadded:: 2.0.0\n",
            "\n",
            "    Returns\n",
            "    -------\n",
            "    sorted_array : ndarray\n",
            "        Array of the same type and shape as `a`.\n",
            "\n",
            "    See Also\n",
            "    --------\n",
            "    ndarray.sort : Method to sort an array in-place.\n",
            "    argsort : Indirect sort.\n",
            "    lexsort : Indirect stable sort on multiple keys.\n",
            "    searchsorted : Find elements in a sorted array.\n",
            "    partition : Partial sort.\n",
            "\n",
            "    Notes\n",
            "    -----\n",
            "    The various sorting algorithms are characterized by their average speed,\n",
            "    worst case performance, work space size, and whether they are stable. A\n",
            "    stable sort keeps items with the same key in the same relative\n",
            "    order. The four algorithms implemented in NumPy have the following\n",
            "    properties:\n",
            "\n",
            "    =========== ======= ============= ============ ========\n",
            "       kind      speed   worst case    work space   stable\n",
            "    =========== ======= ============= ============ ========\n",
            "    'quicksort'    1     O(n^2)            0          no\n",
            "    'heapsort'     3     O(n*log(n))       0          no\n",
            "    'mergesort'    2     O(n*log(n))      ~n/2        yes\n",
            "    'timsort'      2     O(n*log(n))      ~n/2        yes\n",
            "    =========== ======= ============= ============ ========\n",
            "\n",
            "    .. note:: The datatype determines which of 'mergesort' or 'timsort'\n",
            "       is actually used, even if 'mergesort' is specified. User selection\n",
            "       at a finer scale is not currently available.\n",
            "\n",
            "    For performance, ``sort`` makes a temporary copy if needed to make the data\n",
            "    `contiguous <https://numpy.org/doc/stable/glossary.html#term-contiguous>`_\n",
            "    in memory along the sort axis. For even better performance and reduced\n",
            "    memory consumption, ensure that the array is already contiguous along the\n",
            "    sort axis.\n",
            "\n",
            "    The sort order for complex numbers is lexicographic. If both the real\n",
            "    and imaginary parts are non-nan then the order is determined by the\n",
            "    real parts except when they are equal, in which case the order is\n",
            "    determined by the imaginary parts.\n",
            "\n",
            "    Previous to numpy 1.4.0 sorting real and complex arrays containing nan\n",
            "    values led to undefined behaviour. In numpy versions >= 1.4.0 nan\n",
            "    values are sorted to the end. The extended sort order is:\n",
            "\n",
            "      * Real: [R, nan]\n",
            "      * Complex: [R + Rj, R + nanj, nan + Rj, nan + nanj]\n",
            "\n",
            "    where R is a non-nan real value. Complex values with the same nan\n",
            "    placements are sorted according to the non-nan part if it exists.\n",
            "    Non-nan values are sorted as before.\n",
            "\n",
            "    .. versionadded:: 1.12.0\n",
            "\n",
            "    quicksort has been changed to:\n",
            "    `introsort <https://en.wikipedia.org/wiki/Introsort>`_.\n",
            "    When sorting does not make enough progress it switches to\n",
            "    `heapsort <https://en.wikipedia.org/wiki/Heapsort>`_.\n",
            "    This implementation makes quicksort O(n*log(n)) in the worst case.\n",
            "\n",
            "    'stable' automatically chooses the best stable sorting algorithm\n",
            "    for the data type being sorted.\n",
            "    It, along with 'mergesort' is currently mapped to\n",
            "    `timsort <https://en.wikipedia.org/wiki/Timsort>`_\n",
            "    or `radix sort <https://en.wikipedia.org/wiki/Radix_sort>`_\n",
            "    depending on the data type.\n",
            "    API forward compatibility currently limits the\n",
            "    ability to select the implementation and it is hardwired for the different\n",
            "    data types.\n",
            "\n",
            "    .. versionadded:: 1.17.0\n",
            "\n",
            "    Timsort is added for better performance on already or nearly\n",
            "    sorted data. On random data timsort is almost identical to\n",
            "    mergesort. It is now used for stable sort while quicksort is still the\n",
            "    default sort if none is chosen. For timsort details, refer to\n",
            "    `CPython listsort.txt\n",
            "    <https://github.com/python/cpython/blob/3.7/Objects/listsort.txt>`_\n",
            "    'mergesort' and 'stable' are mapped to radix sort for integer data types.\n",
            "    Radix sort is an O(n) sort instead of O(n log n).\n",
            "\n",
            "    .. versionchanged:: 1.18.0\n",
            "\n",
            "    NaT now sorts to the end of arrays for consistency with NaN.\n",
            "\n",
            "    Examples\n",
            "    --------\n",
            "    >>> a = np.array([[1,4],[3,1]])\n",
            "    >>> np.sort(a)                # sort along the last axis\n",
            "    array([[1, 4],\n",
            "           [1, 3]])\n",
            "    >>> np.sort(a, axis=None)     # sort the flattened array\n",
            "    array([1, 1, 3, 4])\n",
            "    >>> np.sort(a, axis=0)        # sort along the first axis\n",
            "    array([[1, 1],\n",
            "           [3, 4]])\n",
            "\n",
            "    Use the `order` keyword to specify a field to use when sorting a\n",
            "    structured array:\n",
            "\n",
            "    >>> dtype = [('name', 'S10'), ('height', float), ('age', int)]\n",
            "    >>> values = [('Arthur', 1.8, 41), ('Lancelot', 1.9, 38),\n",
            "    ...           ('Galahad', 1.7, 38)]\n",
            "    >>> a = np.array(values, dtype=dtype)       # create a structured array\n",
            "    >>> np.sort(a, order='height')                        # doctest: +SKIP\n",
            "    array([('Galahad', 1.7, 38), ('Arthur', 1.8, 41),\n",
            "           ('Lancelot', 1.8999999999999999, 38)],\n",
            "          dtype=[('name', '|S10'), ('height', '<f8'), ('age', '<i4')])\n",
            "\n",
            "    Sort by age, then height if ages are equal:\n",
            "\n",
            "    >>> np.sort(a, order=['age', 'height'])               # doctest: +SKIP\n",
            "    array([('Galahad', 1.7, 38), ('Lancelot', 1.8999999999999999, 38),\n",
            "           ('Arthur', 1.8, 41)],\n",
            "          dtype=[('name', '|S10'), ('height', '<f8'), ('age', '<i4')])\n",
            "\n"
          ]
        }
      ]
    },
    {
      "cell_type": "code",
      "source": [],
      "metadata": {
        "id": "nSDgilK2w3em"
      },
      "execution_count": null,
      "outputs": []
    },
    {
      "cell_type": "code",
      "source": [
        "arr = np.array([1, 2, 3 ,4])\n",
        "arr = np.append(arr, [7])\n",
        "print(arr)\n",
        "\n"
      ],
      "metadata": {
        "colab": {
          "base_uri": "https://localhost:8080/"
        },
        "id": "2STlV9rQyBAg",
        "outputId": "e3228ef2-232a-419e-a88f-417b83eb476c"
      },
      "execution_count": 23,
      "outputs": [
        {
          "output_type": "stream",
          "name": "stdout",
          "text": [
            "[1 2 3 4 7]\n"
          ]
        }
      ]
    },
    {
      "cell_type": "code",
      "source": [
        "# Adding the values at the end\n",
        "# of a numpy array\n",
        "arr = np.arange(1, 13).reshape(2, 6)\n",
        "print(\"Original Array\")\n",
        "print(arr, \"\\n\")\n",
        "\n",
        "# create another array which is\n",
        "# to be appended column-wise\n",
        "col = np.arange(5, 11).reshape(1, 6)\n",
        "arr_col = np.append(arr, col, axis=0)\n",
        "print(\"Array after appending the values column wise\")\n",
        "print(arr_col, \"\\n\")\n",
        "\n",
        "# create an array which is\n",
        "# to be appended row wise\n",
        "row = np.array([1, 2]).reshape(2, 1)\n",
        "arr_row = np.append(arr, row, axis=1)\n",
        "print(\"Array after appending the values row wise\")\n",
        "print(arr_row)"
      ],
      "metadata": {
        "colab": {
          "base_uri": "https://localhost:8080/"
        },
        "id": "px4jv_j4yBda",
        "outputId": "eb3a8bff-dac6-4435-dd50-79ca2ce2c7c4"
      },
      "execution_count": 24,
      "outputs": [
        {
          "output_type": "stream",
          "name": "stdout",
          "text": [
            "Original Array\n",
            "[[ 1  2  3  4  5  6]\n",
            " [ 7  8  9 10 11 12]] \n",
            "\n",
            "Array after appending the values column wise\n",
            "[[ 1  2  3  4  5  6]\n",
            " [ 7  8  9 10 11 12]\n",
            " [ 5  6  7  8  9 10]] \n",
            "\n",
            "Array after appending the values row wise\n",
            "[[ 1  2  3  4  5  6  1]\n",
            " [ 7  8  9 10 11 12  2]]\n"
          ]
        }
      ]
    },
    {
      "cell_type": "code",
      "source": [
        "print('hello world')"
      ],
      "metadata": {
        "colab": {
          "base_uri": "https://localhost:8080/"
        },
        "id": "ARKn8ytU1s1j",
        "outputId": "2141a34d-2ac1-42fa-dd7b-79117788c121"
      },
      "execution_count": 27,
      "outputs": [
        {
          "output_type": "stream",
          "name": "stdout",
          "text": [
            "hello world\n"
          ]
        }
      ]
    },
    {
      "cell_type": "code",
      "source": [],
      "metadata": {
        "id": "SkGCpzJ21usA"
      },
      "execution_count": null,
      "outputs": []
    }
  ]
}